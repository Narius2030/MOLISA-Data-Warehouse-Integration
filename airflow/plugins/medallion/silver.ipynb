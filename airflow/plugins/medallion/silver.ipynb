{
 "cells": [
  {
   "cell_type": "code",
   "execution_count": 1,
   "metadata": {},
   "outputs": [],
   "source": [
    "from pyspark.sql import SparkSession\n",
    "from pyspark.sql.window import Window\n",
    "from pyspark.sql.functions import col, lag, datediff, lit, year, month, count\n",
    "from datetime import date\n",
    "import psycopg2 \n",
    "import os"
   ]
  },
  {
   "cell_type": "code",
   "execution_count": 2,
   "metadata": {},
   "outputs": [],
   "source": [
    "def ncc_difference(stgSubsidyReportFact_df):\n",
    "    df = stgSubsidyReportFact_df.withColumn(\"recieve_days\", datediff(col(\"recieve_date\"),col(\"start_subsidize\")))\n",
    "    final_df = df.withColumn(\"spend_diff\", col(\"actual_spending\")-col(\"subsidy_money\"))\n",
    "    return final_df"
   ]
  },
  {
   "cell_type": "code",
   "execution_count": 3,
   "metadata": {},
   "outputs": [],
   "source": [
    "def grade_difference(povertyfact_df):\n",
    "    # create window for ordered dataframe\n",
    "    # create previous-value columns by \"lag\" function\n",
    "    windowSpec = Window.partitionBy(\"family_code\").orderBy([\"family_code\", \"year\", \"b1_grade\", \"b2_grade\"])\n",
    "    temp_b1 = lag(\"b1_grade\").over(windowSpec).cast(\"integer\")\n",
    "    temp_b2 = lag(\"b2_grade\").over(windowSpec).cast(\"integer\")\n",
    "\n",
    "    # Calculate the difference between current and previous b1_grade, b2_grade\n",
    "    df = povertyfact_df.withColumn(\"b1_diff\", col('b1_grade') - temp_b1)\n",
    "    df = df.withColumn(\"b2_diff\", col('b2_grade') - temp_b2)\n",
    "    return df"
   ]
  },
  {
   "cell_type": "code",
   "execution_count": 14,
   "metadata": {},
   "outputs": [],
   "source": [
    "def count_member(povertyfact_df, member_df):\n",
    "    # create a dataframe for number of member each family_id\n",
    "    count_df = member_df.groupBy(\"family_id\").count()\n",
    "\n",
    "    # join povertyfact to count_df and assign \"count\" value to \"member_num\" -> drop \"count\" column at the end\n",
    "    joined_df = povertyfact_df.join(count_df, on=\"family_id\", how=\"left\")\n",
    "    updated_df = joined_df.withColumn(\"member_num\", joined_df[\"count\"])\n",
    "    # updated_df = updated_df.na.fill(value=-1)\n",
    "    final_df = updated_df.drop(\"count\")\n",
    "    return final_df"
   ]
  },
  {
   "cell_type": "code",
   "execution_count": 5,
   "metadata": {},
   "outputs": [],
   "source": [
    "def find_age_member(memberSurveyFact_df):\n",
    "    final_df = memberSurveyFact_df.withColumn('age', date.today().year - col('year_of_birth')) \n",
    "    return final_df"
   ]
  },
  {
   "cell_type": "code",
   "execution_count": 6,
   "metadata": {},
   "outputs": [],
   "source": [
    "def join_ncc_hongheo(dimSurvey, dimFamilyMember, dimNCC, dimSubsidy):\n",
    "    hongheo_df = dimSurvey.join(dimFamilyMember, on=\"family_id\", how=\"right\").select('member_id','full_name','identity_card_number','family_id',\n",
    "                                                                                    'a_grade','b1_grade','b2_grade','final_result')\n",
    "\n",
    "    dimNCC_tmp = dimNCC.where(\"rowiscurrent=True\")\n",
    "    dimSubsidy_tmp = dimSubsidy.where(\"rowiscurrent=True\")\n",
    "    ncc_df = dimNCC_tmp.join(dimSubsidy_tmp, on=\"profile_code\", how=\"left\").select('profile_code',dimNCC_tmp.ncc_code,dimNCC.full_name,'identity_number',\n",
    "                                                                                   'subsidy_code','year','spend_type','subsidy_name','subsidy_money','submoney','recieve_date')\n",
    "\n",
    "    final_df = ncc_df.join(hongheo_df, hongheo_df.identity_card_number==ncc_df.identity_number, how=\"left\") \\\n",
    "                     .select('profile_code','ncc_code',ncc_df.full_name,'identity_number',\n",
    "                             'subsidy_code','year','subsidy_money','recieve_date',\n",
    "                             'member_id','family_id','a_grade','b1_grade','b2_grade','final_result')\n",
    "    return final_df"
   ]
  },
  {
   "cell_type": "code",
   "execution_count": 7,
   "metadata": {},
   "outputs": [],
   "source": [
    "def find_keys(spark, config, finalfact_df, businesskeys:dict): \n",
    "        dimMember = spark.read.format(\"jdbc\") \\\n",
    "                .option(\"url\", f\"{config['URL_BASE_LOCAL']}:{config['PORT']}/NguoiDanDM\") \\\n",
    "                .option(\"driver\", f\"{config['DRIVER']}\") \\\n",
    "                .option(\"dbtable\", 'public.\"DimFamilyMember\"') \\\n",
    "                .option(\"user\", f\"{config['USER']}\") \\\n",
    "                .option(\"password\", f\"{config['PASSWORD']}\") \\\n",
    "                .load()\n",
    "\n",
    "        dimSurvey = spark.read.format(\"jdbc\") \\\n",
    "                .option(\"url\", f\"{config['URL_BASE_LOCAL']}:{config['PORT']}/NguoiDanDM\") \\\n",
    "                .option(\"driver\", f\"{config['DRIVER']}\") \\\n",
    "                .option(\"dbtable\", 'public.\"DimSurvey\"') \\\n",
    "                .option(\"user\", f\"{config['USER']}\") \\\n",
    "                .option(\"password\", f\"{config['PASSWORD']}\") \\\n",
    "                .load()\n",
    "\n",
    "        dimNCC = spark.read.format(\"jdbc\") \\\n",
    "                .option(\"url\", f\"{config['URL_BASE_LOCAL']}:{config['PORT']}/NguoiDanDM\") \\\n",
    "                .option(\"driver\", f\"{config['DRIVER']}\") \\\n",
    "                .option(\"dbtable\", 'public.\"DimNCC\"') \\\n",
    "                .option(\"user\", f\"{config['USER']}\") \\\n",
    "                .option(\"password\", f\"{config['PASSWORD']}\") \\\n",
    "                .load()\n",
    "        \n",
    "        \n",
    "        # Filter dimNCC based on businesskeys and rowiscurrent\n",
    "        key_dimNCC = dimNCC.where((dimNCC.profile_code.isin(businesskeys['ncc'])) & (dimNCC.rowiscurrent == True)) \\\n",
    "                                .select('profile_code', 'profilekey')\n",
    "        key_dimMember = dimMember.where(dimMember.member_id.isin(businesskeys['member'])) \\\n",
    "                                .select('member_id', 'memberkey')\n",
    "        key_dimSurvey = dimSurvey.where((dimSurvey.family_id.isin(businesskeys['survey'])) & (dimSurvey.rowiscurrent == True)) \\\n",
    "                                .select('family_id', 'surveykey')\n",
    "                \n",
    "        # Join finalfact_df with filtered_dimNCC on profile_code\n",
    "        joined_df = finalfact_df.join(key_dimNCC, on='profile_code', how='left')\n",
    "        joined_df = joined_df.join(key_dimMember, on='member_id', how='left')\n",
    "        joined_df = joined_df.join(key_dimSurvey, on='family_id', how='left')\n",
    "        \n",
    "        # Select all columns and rename the joined profilekey column (optional)\n",
    "        joined_df = joined_df.withColumn('year', year('recieve_date'))\n",
    "        joined_df = joined_df.withColumn('month', month('recieve_date'))\n",
    "        final_df = joined_df.withColumn('datekey', lit(year('recieve_date').cast('integer')*100 + month('recieve_date').cast('string')))\n",
    "        \n",
    "        return final_df"
   ]
  },
  {
   "cell_type": "code",
   "execution_count": 8,
   "metadata": {},
   "outputs": [],
   "source": [
    "def value_of_subsidy(fact_df):\n",
    "    temp_df = fact_df.select('profilekey','memberkey','surveykey','datekey','year','month',\n",
    "                              'profile_code','ncc_code',fact_df.full_name,'identity_number',\n",
    "                              'member_id','family_id','a_grade','b1_grade','b2_grade','final_result')\n",
    "    \n",
    "    # Count the total subsidy of each NCC\n",
    "    grouped_df = temp_df.groupBy(['year','month','identity_number']).count()\n",
    "    joined_df = temp_df.join(grouped_df, on=['identity_number','year','month'], how='left')\n",
    "    count_df = joined_df.withColumn('total_subsidy', joined_df['count'])\n",
    "    final_df = count_df.drop(\"count\")\n",
    "    \n",
    "    # Sum the value of subsidy for each NCC\n",
    "    grouped_df = fact_df.groupBy(['year','month','identity_number']).sum('subsidy_money')\n",
    "    joined_df = temp_df.join(grouped_df, on=['identity_number','year','month'], how='right')\n",
    "    sum_df = joined_df.withColumn('total_money', joined_df['sum(subsidy_money)']).drop('sum(subsidy_money)')\n",
    "    \n",
    "    # Combine\n",
    "    final_df = final_df.join(sum_df, on='profilekey', how='left').select([final_df.profilekey,final_df.memberkey,final_df.surveykey,final_df.datekey,final_df.year,final_df.month,\n",
    "                                                                           final_df.profile_code,final_df.ncc_code,final_df.full_name,final_df.identity_number,\n",
    "                                                                           final_df.member_id,final_df.family_id,final_df.a_grade,final_df.b1_grade,final_df.b2_grade,final_df.final_result,\n",
    "                                                                           'total_subsidy','total_money'])\n",
    "    \n",
    "    return final_df.distinct()"
   ]
  },
  {
   "cell_type": "code",
   "execution_count": 16,
   "metadata": {},
   "outputs": [
    {
     "name": "stdout",
     "output_type": "stream",
     "text": [
      "====================\n",
      "+--------------------+----+-------------+-------------+-----------+----------+--------------------+--------------------+--------------------+----------+-------+--------+--------+-------+-------+------------+\n",
      "|           family_id|year|province_name|district_name|family_code|owner_name|        hard_reasons|        get_policies|       need_policies|member_num|a_grade|b1_grade|b2_grade|b1_diff|b2_diff|final_result|\n",
      "+--------------------+----+-------------+-------------+-----------+----------+--------------------+--------------------+--------------------+----------+-------+--------+--------+-------+-------+------------+\n",
      "|c27fd2c3-42eb-45a...|2023|     Đắk Nông|       Cư Jút|       7003|  Độ A Đạt|[không có đất sản...|[hỗ trợ y tế, hỗ ...|[hỗ trợ nước sạch...|         1|   true|      30|      58|   NULL|   NULL|    hộ nghèo|\n",
      "|643fd2d7-214b-479...|2023|     Đắk Nông|       Cư Jút|       7009|Phùng A Sử|[không có đất sản...|[hỗ trợ y tế, hỗ ...|[hỗ trợ nước sạch...|         2|   true|      45|      65|     -5|     33|    hộ nghèo|\n",
      "|68a33bcf-c848-45b...|2022|     Đắk Nông|       Cư Jút|       7009|      NULL|[không có đất sản...|[hỗ trợ y tế, hỗ ...|[hỗ trợ nước sạch...|      NULL|   true|      50|      32|   NULL|   NULL|    hộ nghèo|\n",
      "+--------------------+----+-------------+-------------+-----------+----------+--------------------+--------------------+--------------------+----------+-------+--------+--------+-------+-------+------------+\n",
      "\n",
      "None\n",
      "====================\n"
     ]
    }
   ],
   "source": [
    "import json\n",
    "\n",
    "with open(\"../../config.json\", \"r\") as file:\n",
    "        config = json.load(file)\n",
    "    \n",
    "spark = SparkSession.builder.appName(\"Test connect to Postgresql\") \\\n",
    "                .config('spark.jars.packages', 'org.postgresql:postgresql:42.7.3') \\\n",
    "                .getOrCreate()\n",
    "\n",
    "povertyfact_df = spark.read.format(\"jdbc\") \\\n",
    "                .option(\"url\", f\"{config['URL_BASE_LOCAL']}:{config['PORT']}/LdtbxhStage\") \\\n",
    "                .option(\"driver\", f\"{config['DRIVER']}\") \\\n",
    "                .option(\"dbtable\", 'public.\"stgPovertyStatusFact\"') \\\n",
    "                .option(\"user\", f\"{config['USER']}\") \\\n",
    "                .option(\"password\", f\"{config['PASSWORD']}\") \\\n",
    "                .load()\n",
    "\n",
    "member_df = spark.read.format(\"jdbc\") \\\n",
    "                .option(\"url\", f\"{config['URL_BASE_LOCAL']}:{config['PORT']}/hongheovna\") \\\n",
    "                .option(\"driver\", f\"{config['DRIVER']}\") \\\n",
    "                .option(\"dbtable\", 'public.family_member_info') \\\n",
    "                .option(\"user\", f\"{config['USER']}\") \\\n",
    "                .option(\"password\", f\"{config['PASSWORD']}\") \\\n",
    "                .load()\n",
    "\n",
    "temp_df = grade_difference(povertyfact_df)\n",
    "finalfact_df = count_member(temp_df, member_df)\n",
    "\n",
    "print(\"====================\")\n",
    "print(finalfact_df.show(5))\n",
    "print(\"====================\")\n",
    "\n",
    "with psycopg2.connect(\n",
    "        database=\"LdtbxhStage\",\n",
    "        user=f\"{config['USER']}\",\n",
    "        password=f\"{config['PASSWORD']}\",\n",
    "        host=f\"{config['HOST_LOCAL']}\",\n",
    "        port=f\"{config['PORT']}\"\n",
    ") as conn:\n",
    "        with conn.cursor() as cur:\n",
    "                for row in finalfact_df.collect():\n",
    "                        query = \"\"\"UPDATE public.\"stgPovertyStatusFact\"\n",
    "                                SET\n",
    "                                        member_num=%s,\n",
    "                                        b1_diff=%s,\n",
    "                                        b2_diff=%s\n",
    "                                WHERE family_id=%s\"\"\"\n",
    "                        cur.execute(query, (row['member_num'], row['b1_diff'], row['b2_diff'], row['family_id']))\n",
    "                "
   ]
  },
  {
   "cell_type": "code",
   "execution_count": 10,
   "metadata": {},
   "outputs": [],
   "source": [
    "# INSERT INTO \"DimNCC\"(profilekey) VALUES('00000000-0000-0000-0000-000000000000');\n",
    "# INSERT INTO \"DimSurvey\"(surveykey) VALUES('00000000-0000-0000-0000-000000000000');\n",
    "# INSERT INTO \"DimFamilyMember\"(memberkey) VALUES('00000000-0000-0000-0000-000000000000');"
   ]
  },
  {
   "cell_type": "code",
   "execution_count": 11,
   "metadata": {},
   "outputs": [],
   "source": [
    "spark.stop()"
   ]
  }
 ],
 "metadata": {
  "kernelspec": {
   "display_name": ".venv",
   "language": "python",
   "name": "python3"
  },
  "language_info": {
   "codemirror_mode": {
    "name": "ipython",
    "version": 3
   },
   "file_extension": ".py",
   "mimetype": "text/x-python",
   "name": "python",
   "nbconvert_exporter": "python",
   "pygments_lexer": "ipython3",
   "version": "3.11.1"
  }
 },
 "nbformat": 4,
 "nbformat_minor": 2
}
