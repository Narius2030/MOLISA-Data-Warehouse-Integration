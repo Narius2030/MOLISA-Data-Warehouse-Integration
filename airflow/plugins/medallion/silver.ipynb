{
 "cells": [
  {
   "cell_type": "code",
   "execution_count": 5,
   "metadata": {},
   "outputs": [],
   "source": [
    "from pyspark.sql import SparkSession\n",
    "from pyspark.sql.window import Window\n",
    "from pyspark.sql.functions import col, lag, datediff\n",
    "from datetime import date\n",
    "import psycopg2 \n",
    "import os"
   ]
  },
  {
   "cell_type": "code",
   "execution_count": 8,
   "metadata": {},
   "outputs": [],
   "source": [
    "def ncc_difference(stgSubsidyReportFact_df):\n",
    "    df = stgSubsidyReportFact_df.withColumn(\"recieve_days\", datediff(col(\"recieve_date\"),col(\"start_subsidize\")))\n",
    "    final_df = df.withColumn(\"spend_diff\", col(\"actual_spending\")-col(\"subsidy_money\"))\n",
    "    return final_df"
   ]
  },
  {
   "cell_type": "code",
   "execution_count": 5,
   "metadata": {},
   "outputs": [],
   "source": [
    "def grade_difference(povertyfact_df):\n",
    "    # create window for ordered dataframe\n",
    "    # create previous-value columns by \"lag\" function\n",
    "    windowSpec = Window.partitionBy(\"family_code\").orderBy([\"family_code\", \"year\", \"b1_grade\", \"b2_grade\"])\n",
    "    temp_b1 = lag(\"b1_grade\").over(windowSpec).cast(\"integer\")\n",
    "    temp_b2 = lag(\"b2_grade\").over(windowSpec).cast(\"integer\")\n",
    "\n",
    "    # Calculate the difference between current and previous b1_grade, b2_grade\n",
    "    df = povertyfact_df.withColumn(\"b1_diff\", col('b1_grade') - temp_b1)\n",
    "    df = df.withColumn(\"b2_diff\", col('b2_grade') - temp_b2)\n",
    "    return df"
   ]
  },
  {
   "cell_type": "code",
   "execution_count": 28,
   "metadata": {},
   "outputs": [],
   "source": [
    "def count_member(povertyfact_df, member_df):\n",
    "    # create a dataframe for number of member each family_id\n",
    "    count_df = member_df.groupBy(\"family_id\").count()\n",
    "\n",
    "    # join povertyfact to count_df and assign \"count\" value to \"member_num\" -> drop \"count\" column at the end\n",
    "    joined_df = povertyfact_df.join(count_df, on=\"family_id\", how=\"left\")\n",
    "    updated_df = joined_df.withColumn(\"member_num\", joined_df[\"count\"])\n",
    "    updated_df = updated_df.na.fill(value=-1)\n",
    "    final_df = updated_df.drop(\"count\")\n",
    "    return final_df"
   ]
  },
  {
   "cell_type": "code",
   "execution_count": 4,
   "metadata": {},
   "outputs": [],
   "source": [
    "def find_age_member(memberSurveyFact_df):\n",
    "    final_df = memberSurveyFact_df.withColumn('age', date.today().year - col('year_of_birth')) \n",
    "    return final_df"
   ]
  },
  {
   "cell_type": "code",
   "execution_count": 10,
   "metadata": {},
   "outputs": [
    {
     "name": "stdout",
     "output_type": "stream",
     "text": [
      "====================\n",
      "+-------------+-------------+------------+----------+------------+------+------------+----+----------+--------------------+-------------+--------+------------+------------+---------------+----------+---------------+\n",
      "|province_code|district_code|profile_code|  ncc_code|   full_name|ethnic|subsidy_code|year|spend_type|        subsidy_name|subsidy_money|submoney|recieve_days|recieve_date|start_subsidize|spend_diff|actual_spending|\n",
      "+-------------+-------------+------------+----------+------------+------+------------+----+----------+--------------------+-------------+--------+------------+------------+---------------+----------+---------------+\n",
      "|        67   |        664  |  LS001     |LS        |Nguyễn Văn A|  Bana|  LS0       |2022|   một lần|Trợ cấp một lần k...|       4.11E7|    NULL|          16|  2022-08-20|     2022-08-04|       0.0|         4.11E7|\n",
      "|        67   |        664  |  LS001     |LS        |Nguyễn Văn A|  Bana|  LS1       |2022|   một lần|Hỗ trợ chi phí bá...|    2055000.0|    NULL|          16|  2022-08-20|     2022-08-04|-1000000.0|      1055000.0|\n",
      "|        67   |        662  |  AHLD001   |LS        |    Lê Văn B|  Kinh|  AHLD0     |2022|   một lần|Anh hùng Lao động...|       4.11E7|    NULL|           0|  2022-07-04|     2022-07-04|       0.0|         4.11E7|\n",
      "|        67   |        662  |  AHLD001   |LS        |    Lê Văn B|  Kinh|  AHLD1     |2022|hàng tháng|Anh hùng Lao động...|    1722000.0|    NULL|           0|  2022-07-04|     2022-07-04|       0.0|      1722000.0|\n",
      "+-------------+-------------+------------+----------+------------+------+------------+----+----------+--------------------+-------------+--------+------------+------------+---------------+----------+---------------+\n",
      "\n",
      "None\n",
      "====================\n"
     ]
    }
   ],
   "source": [
    "import json\n",
    "\n",
    "with open(\"../../config.json\", \"r\") as file:\n",
    "        config = json.load(file)\n",
    "    \n",
    "spark = SparkSession.builder.appName(\"Test connect to Postgresql\") \\\n",
    "        .config('spark.jars.packages', 'org.postgresql:postgresql:42.7.3') \\\n",
    "        .getOrCreate()\n",
    "        \n",
    "stgSubsidyReportFact_df = spark.read.format(\"jdbc\") \\\n",
    "        .option(\"url\", f\"{config['URL_BASE_LOCAL']}:{config['PORT']}/LdtbxhStage\") \\\n",
    "        .option(\"driver\", f\"{config['DRIVER']}\") \\\n",
    "        .option(\"dbtable\", 'public.\"stgSubsidyReportFact\"') \\\n",
    "        .option(\"user\", f\"{config['USER']}\") \\\n",
    "        .option(\"password\", f\"{config['PASSWORD']}\") \\\n",
    "        .load()\n",
    "\n",
    "finalfact_df = ncc_difference(stgSubsidyReportFact_df)\n",
    "\n",
    "print(\"====================\")\n",
    "print(finalfact_df.show(5))\n",
    "print(\"====================\")\n",
    "        \n",
    "\n",
    "with psycopg2.connect(\n",
    "        database=\"LdtbxhStage\",\n",
    "        user=\"postgres\",\n",
    "        password=\"nhanbui\",\n",
    "        host=\"localhost\",\n",
    "        port=\"5434\"\n",
    ") as conn:\n",
    "        with conn.cursor() as cur:\n",
    "                for row in finalfact_df.collect():\n",
    "                        cur.execute(f\"\"\"UPDATE public.\"stgSubsidyReportFact\"\n",
    "                                        SET \n",
    "                                                recieve_days={row['recieve_days']},\n",
    "                                                spend_diff={row['spend_diff']}\n",
    "                                        WHERE profile_code='{row['profile_code']}' \n",
    "                                                AND subsidy_code='{row['subsidy_code']}' \n",
    "                                                AND year={row['year']}\"\"\")"
   ]
  },
  {
   "cell_type": "code",
   "execution_count": null,
   "metadata": {},
   "outputs": [],
   "source": []
  }
 ],
 "metadata": {
  "kernelspec": {
   "display_name": ".venv",
   "language": "python",
   "name": "python3"
  },
  "language_info": {
   "codemirror_mode": {
    "name": "ipython",
    "version": 3
   },
   "file_extension": ".py",
   "mimetype": "text/x-python",
   "name": "python",
   "nbconvert_exporter": "python",
   "pygments_lexer": "ipython3",
   "version": "3.11.1"
  }
 },
 "nbformat": 4,
 "nbformat_minor": 2
}
