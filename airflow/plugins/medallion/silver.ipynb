{
 "cells": [
  {
   "cell_type": "code",
   "execution_count": 2,
   "metadata": {},
   "outputs": [],
   "source": [
    "from pyspark.sql import SparkSession\n",
    "from pyspark.sql.window import Window\n",
    "from pyspark.sql.functions import col, lag\n",
    "from datetime import date\n",
    "import psycopg2 \n",
    "import os"
   ]
  },
  {
   "cell_type": "code",
   "execution_count": 5,
   "metadata": {},
   "outputs": [],
   "source": [
    "def grade_difference(povertyfact_df):\n",
    "    # create window for ordered dataframe\n",
    "    # create previous-value columns by \"lag\" function\n",
    "    windowSpec = Window.partitionBy(\"family_code\").orderBy([\"family_code\", \"year\", \"b1_grade\", \"b2_grade\"])\n",
    "    temp_b1 = lag(\"b1_grade\").over(windowSpec).cast(\"integer\")\n",
    "    temp_b2 = lag(\"b2_grade\").over(windowSpec).cast(\"integer\")\n",
    "\n",
    "    # Calculate the difference between current and previous b1_grade, b2_grade\n",
    "    df = povertyfact_df.withColumn(\"b1_diff\", col('b1_grade') - temp_b1)\n",
    "    df = df.withColumn(\"b2_diff\", col('b2_grade') - temp_b2)\n",
    "    return df"
   ]
  },
  {
   "cell_type": "code",
   "execution_count": 28,
   "metadata": {},
   "outputs": [],
   "source": [
    "def count_member(povertyfact_df, member_df):\n",
    "    # create a dataframe for number of member each family_id\n",
    "    count_df = member_df.groupBy(\"family_id\").count()\n",
    "\n",
    "    # join povertyfact to count_df and assign \"count\" value to \"member_num\" -> drop \"count\" column at the end\n",
    "    joined_df = povertyfact_df.join(count_df, on=\"family_id\", how=\"left\")\n",
    "    updated_df = joined_df.withColumn(\"member_num\", joined_df[\"count\"])\n",
    "    updated_df = updated_df.na.fill(value=-1)\n",
    "    final_df = updated_df.drop(\"count\")\n",
    "    return final_df"
   ]
  },
  {
   "cell_type": "code",
   "execution_count": 4,
   "metadata": {},
   "outputs": [],
   "source": [
    "def find_age_member(memberSurveyFact_df):\n",
    "    final_df = memberSurveyFact_df.withColumn('age', date.today().year - col('year_of_birth')) \n",
    "    return final_df"
   ]
  },
  {
   "cell_type": "code",
   "execution_count": 30,
   "metadata": {},
   "outputs": [
    {
     "name": "stdout",
     "output_type": "stream",
     "text": [
      "====================\n",
      "+--------------------+----+-------------+-------------+-----------+----------+--------------------+--------------------+--------------------+----------+-------+--------+--------+-------+-------+------------+\n",
      "|           family_id|year|province_name|district_name|family_code|owner_name|        hard_reasons|        get_policies|       need_policies|member_num|a_grade|b1_grade|b2_grade|b1_diff|b2_diff|final_result|\n",
      "+--------------------+----+-------------+-------------+-----------+----------+--------------------+--------------------+--------------------+----------+-------+--------+--------+-------+-------+------------+\n",
      "|966a5c75-d6f5-48c...|2022|     Đắk Nông|       Cư Jút|       7009|      NULL|[không có đất sản...|[hỗ trợ y tế, hỗ ...|[hỗ trợ nước sạch...|        -1|   true|      45|      65|     -1|     -1|    hộ nghèo|\n",
      "|f4773df9-32bc-417...|2023|     Đắk Nông|       Cư Jút|       7003|  Độ A Đạt|[không có đất sản...|[hỗ trợ y tế, hỗ ...|[hỗ trợ nước sạch...|         1|   true|      30|      58|     -1|     -1|    hộ nghèo|\n",
      "|70321aa9-91b9-465...|2023|     Đắk Nông|       Cư Jút|       7009|Phùng A Sử|[không có đất sản...|[hỗ trợ y tế, hỗ ...|[hỗ trợ nước sạch...|         2|   true|      50|      32|      5|    -33|    hộ nghèo|\n",
      "+--------------------+----+-------------+-------------+-----------+----------+--------------------+--------------------+--------------------+----------+-------+--------+--------+-------+-------+------------+\n",
      "\n",
      "None\n",
      "====================\n"
     ]
    }
   ],
   "source": [
    "import json\n",
    "\n",
    "with open(\"../../config.json\", \"r\") as file:\n",
    "        config = json.load(file)\n",
    "    \n",
    "spark = SparkSession.builder.appName(\"Test connect to Postgresql\") \\\n",
    "        .config('spark.jars.packages', 'org.postgresql:postgresql:42.7.3') \\\n",
    "        .getOrCreate()\n",
    "        \n",
    "povertyfact_df = spark.read.format(\"jdbc\") \\\n",
    "        .option(\"url\", f\"{config['URL_BASE_LOCAL']}:{config['PORT']}/LdtbxhStage\") \\\n",
    "        .option(\"driver\", \"org.postgresql.Driver\") \\\n",
    "        .option(\"dbtable\", 'public.\"stgPovertyStatusFact\"') \\\n",
    "        .option(\"user\", \"postgres\") \\\n",
    "        .option(\"password\", \"nhanbui\") \\\n",
    "        .load()\n",
    "        \n",
    "member_df = spark.read.format(\"jdbc\") \\\n",
    "        .option(\"url\", f\"{config['URL_BASE_LOCAL']}:{config['PORT']}/hongheovna\") \\\n",
    "        .option(\"driver\", \"org.postgresql.Driver\") \\\n",
    "        .option(\"dbtable\", 'public.family_member_info') \\\n",
    "        .option(\"user\", \"postgres\") \\\n",
    "        .option(\"password\", \"nhanbui\") \\\n",
    "        .load()\n",
    "\n",
    "temp_df = grade_difference(povertyfact_df)\n",
    "finalfact_df = count_member(temp_df, member_df)\n",
    "\n",
    "print(\"====================\")\n",
    "print(finalfact_df.show(5))\n",
    "print(\"====================\")\n",
    "        \n",
    "\n",
    "with psycopg2.connect(\n",
    "        database=\"LdtbxhStage\",\n",
    "        user=\"postgres\",\n",
    "        password=\"nhanbui\",\n",
    "        host=\"localhost\",\n",
    "        port=\"5434\"\n",
    ") as conn:\n",
    "        with conn.cursor() as cur:\n",
    "                for row in finalfact_df.collect():\n",
    "                        cur.execute(f\"\"\"UPDATE public.\"stgPovertyStatusFact\"\n",
    "                                        SET \n",
    "                                                member_num={row['member_num']},\n",
    "                                                b1_diff={row['b1_diff']},\n",
    "                                                b2_diff={row['b2_diff']}\n",
    "                                        WHERE family_id='{row['family_id']}'\"\"\")"
   ]
  },
  {
   "cell_type": "code",
   "execution_count": null,
   "metadata": {},
   "outputs": [],
   "source": []
  }
 ],
 "metadata": {
  "kernelspec": {
   "display_name": ".venv",
   "language": "python",
   "name": "python3"
  },
  "language_info": {
   "codemirror_mode": {
    "name": "ipython",
    "version": 3
   },
   "file_extension": ".py",
   "mimetype": "text/x-python",
   "name": "python",
   "nbconvert_exporter": "python",
   "pygments_lexer": "ipython3",
   "version": "3.11.1"
  }
 },
 "nbformat": 4,
 "nbformat_minor": 2
}
