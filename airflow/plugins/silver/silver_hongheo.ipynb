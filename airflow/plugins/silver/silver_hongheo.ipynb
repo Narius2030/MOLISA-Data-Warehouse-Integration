{
 "cells": [
  {
   "cell_type": "code",
   "execution_count": 1,
   "metadata": {},
   "outputs": [],
   "source": [
    "from pyspark.sql import SparkSession\n",
    "from pyspark.sql.window import Window\n",
    "from pyspark.sql.functions import col, lag"
   ]
  },
  {
   "cell_type": "code",
   "execution_count": 35,
   "metadata": {},
   "outputs": [
    {
     "name": "stdout",
     "output_type": "stream",
     "text": [
      "============================\n",
      "root\n",
      " |-- family_id: string (nullable = true)\n",
      " |-- year: short (nullable = true)\n",
      " |-- province_name: string (nullable = true)\n",
      " |-- district_name: string (nullable = true)\n",
      " |-- family_code: string (nullable = true)\n",
      " |-- owner_name: string (nullable = true)\n",
      " |-- hard_reasons: array (nullable = true)\n",
      " |    |-- element: string (containsNull = true)\n",
      " |-- get_policies: array (nullable = true)\n",
      " |    |-- element: string (containsNull = true)\n",
      " |-- need_policies: array (nullable = true)\n",
      " |    |-- element: string (containsNull = true)\n",
      " |-- member_num: short (nullable = true)\n",
      " |-- a_grade: boolean (nullable = true)\n",
      " |-- b1_grade: short (nullable = true)\n",
      " |-- b2_grade: short (nullable = true)\n",
      " |-- b1_diff: short (nullable = true)\n",
      " |-- b2_diff: short (nullable = true)\n",
      " |-- final_result: string (nullable = true)\n",
      "\n",
      "None\n",
      "root\n",
      " |-- member_id: string (nullable = true)\n",
      " |-- family_id: string (nullable = true)\n",
      " |-- full_name: string (nullable = true)\n",
      " |-- owner_relationship: string (nullable = true)\n",
      " |-- year_of_birth: short (nullable = true)\n",
      " |-- month_of_birth: short (nullable = true)\n",
      " |-- day_of_birth: short (nullable = true)\n",
      " |-- identity_card_number: string (nullable = true)\n",
      " |-- nation: string (nullable = true)\n",
      " |-- sex: boolean (nullable = true)\n",
      " |-- height: integer (nullable = true)\n",
      " |-- weight: integer (nullable = true)\n",
      " |-- education_status: boolean (nullable = true)\n",
      " |-- education_level: string (nullable = true)\n",
      " |-- culture_level: string (nullable = true)\n",
      " |-- training_level: string (nullable = true)\n",
      " |-- has_medical_insurance: boolean (nullable = true)\n",
      " |-- has_internet: boolean (nullable = true)\n",
      " |-- social_assistance: string (nullable = true)\n",
      " |-- has_job: string (nullable = true)\n",
      " |-- job_type: string (nullable = true)\n",
      " |-- has_contract: string (nullable = true)\n",
      " |-- has_pension: string (nullable = true)\n",
      " |-- hard_disease: boolean (nullable = true)\n",
      " |-- temporay_place: string (nullable = true)\n",
      " |-- created_date: timestamp (nullable = true)\n",
      "\n",
      "None\n",
      "============================\n"
     ]
    }
   ],
   "source": [
    "spark = SparkSession.builder.appName(\"Test connect to Postgresql\") \\\n",
    "        .config('spark.jars.packages', 'org.postgresql:postgresql:42.7.3') \\\n",
    "        .getOrCreate()\n",
    "        \n",
    "povertyfact_df = spark.read.format(\"jdbc\") \\\n",
    "    .option(\"url\", \"jdbc:postgresql://localhost:5434/LdtbxhStage\") \\\n",
    "    .option(\"driver\", \"org.postgresql.Driver\") \\\n",
    "    .option(\"dbtable\", 'public.\"stgPovertyStatusFact\"') \\\n",
    "    .option(\"user\", \"postgres\") \\\n",
    "    .option(\"password\", \"nhanbui\") \\\n",
    "    .load()\n",
    "    \n",
    "member_df = spark.read.format(\"jdbc\") \\\n",
    "    .option(\"url\", \"jdbc:postgresql://localhost:5434/hongheovna\") \\\n",
    "    .option(\"driver\", \"org.postgresql.Driver\") \\\n",
    "    .option(\"dbtable\", 'public.family_member_info') \\\n",
    "    .option(\"user\", \"postgres\") \\\n",
    "    .option(\"password\", \"nhanbui\") \\\n",
    "    .load()\n",
    "    \n",
    "print(\"============================\")\n",
    "print(povertyfact_df.printSchema())\n",
    "print(member_df.printSchema())\n",
    "print(\"============================\")"
   ]
  },
  {
   "cell_type": "code",
   "execution_count": 31,
   "metadata": {},
   "outputs": [],
   "source": [
    "def grade_difference():\n",
    "    # create window for ordered dataframe\n",
    "    # create previous-value columns by \"lag\" function\n",
    "    windowSpec = Window.partitionBy(\"family_code\").orderBy([\"family_code\", \"year\", \"b1_grade\", \"b2_grade\"])\n",
    "    temp_b1 = lag(\"b1_grade\").over(windowSpec).cast(\"integer\")\n",
    "    temp_b2 = lag(\"b2_grade\").over(windowSpec).cast(\"integer\")\n",
    "\n",
    "    # Calculate the difference between current and previous b1_grade, b2_grade\n",
    "    df = povertyfact_df.withColumn(\"b1_diff\", col('b1_grade') - temp_b1)\n",
    "    df = df.withColumn(\"b2_diff\", col('b2_grade') - temp_b2)\n",
    "    return df"
   ]
  },
  {
   "cell_type": "code",
   "execution_count": 49,
   "metadata": {},
   "outputs": [],
   "source": [
    "def count_member():\n",
    "    # create a dataframe for number of member each family_id\n",
    "    count_df = member_df.groupBy(\"family_id\").count()\n",
    "\n",
    "    # join povertyfact to count_df and assign \"count\" value to \"member_num\" -> drop \"count\" column at the end\n",
    "    joined_df = povertyfact_df.join(count_df, on=\"family_id\", how=\"inner\")\n",
    "    updated_df = joined_df.withColumn(\"member_num\", joined_df[\"count\"])\n",
    "    final_df = updated_df.drop(\"count\")\n",
    "    return final_df"
   ]
  },
  {
   "cell_type": "code",
   "execution_count": 47,
   "metadata": {},
   "outputs": [
    {
     "data": {
      "text/plain": [
       "DataFrame[family_id: string, year: smallint, province_name: string, district_name: string, family_code: string, owner_name: string, hard_reasons: array<string>, get_policies: array<string>, need_policies: array<string>, member_num: smallint, a_grade: boolean, b1_grade: smallint, b2_grade: smallint, b1_diff: smallint, b2_diff: smallint, final_result: string]"
      ]
     },
     "execution_count": 47,
     "metadata": {},
     "output_type": "execute_result"
    }
   ],
   "source": []
  }
 ],
 "metadata": {
  "kernelspec": {
   "display_name": ".venv",
   "language": "python",
   "name": "python3"
  },
  "language_info": {
   "codemirror_mode": {
    "name": "ipython",
    "version": 3
   },
   "file_extension": ".py",
   "mimetype": "text/x-python",
   "name": "python",
   "nbconvert_exporter": "python",
   "pygments_lexer": "ipython3",
   "version": "3.11.1"
  }
 },
 "nbformat": 4,
 "nbformat_minor": 2
}
